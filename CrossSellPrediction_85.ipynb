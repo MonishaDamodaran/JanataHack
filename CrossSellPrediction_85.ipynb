{
 "cells": [
  {
   "cell_type": "code",
   "execution_count": 73,
   "metadata": {
    "colab": {},
    "colab_type": "code",
    "executionInfo": {
     "elapsed": 1963,
     "status": "ok",
     "timestamp": 1600082121538,
     "user": {
      "displayName": "Monisha Damodaran",
      "photoUrl": "https://lh3.googleusercontent.com/a-/AOh14Gi_q4T9HH9BFL_ZO-_l2JIKInT6SowHwa2NVssRKA=s64",
      "userId": "09754680681810397681"
     },
     "user_tz": -330
    },
    "id": "S_y9kBeU4KWu"
   },
   "outputs": [],
   "source": [
    "import numpy as np\n",
    "import pandas as pd\n",
    "import sys\n",
    "np.set_printoptions(threshold = sys.maxsize)"
   ]
  },
  {
   "cell_type": "code",
   "execution_count": 74,
   "metadata": {
    "colab": {},
    "colab_type": "code",
    "id": "FoL4k09kLgc4"
   },
   "outputs": [],
   "source": [
    "#from google.colab import files\n",
    "#uploaded = files.upload()"
   ]
  },
  {
   "cell_type": "code",
   "execution_count": 75,
   "metadata": {
    "colab": {},
    "colab_type": "code",
    "executionInfo": {
     "elapsed": 1396,
     "status": "ok",
     "timestamp": 1600082135454,
     "user": {
      "displayName": "Monisha Damodaran",
      "photoUrl": "https://lh3.googleusercontent.com/a-/AOh14Gi_q4T9HH9BFL_ZO-_l2JIKInT6SowHwa2NVssRKA=s64",
      "userId": "09754680681810397681"
     },
     "user_tz": -330
    },
    "id": "sWVBikSlLkla"
   },
   "outputs": [],
   "source": [
    "#import io\n",
    "#train = io.BytesIO(uploaded[\"train.csv\"])\n",
    "#test = io.BytesIO(uploaded[\"test.csv\"])\n"
   ]
  },
  {
   "cell_type": "code",
   "execution_count": 76,
   "metadata": {
    "colab": {},
    "colab_type": "code",
    "executionInfo": {
     "elapsed": 1290,
     "status": "ok",
     "timestamp": 1600079094824,
     "user": {
      "displayName": "Monisha Damodaran",
      "photoUrl": "https://lh3.googleusercontent.com/a-/AOh14Gi_q4T9HH9BFL_ZO-_l2JIKInT6SowHwa2NVssRKA=s64",
      "userId": "09754680681810397681"
     },
     "user_tz": -330
    },
    "id": "zvl8SXbZIdah"
   },
   "outputs": [
    {
     "name": "stdout",
     "output_type": "stream",
     "text": [
      "C:\\Users\\Home\\Desktop\\currentfolders\\CrossSellPrediction\\data\\test.csv\n",
      "C:\\Users\\Home\\Desktop\\currentfolders\\CrossSellPrediction\\data\\train.csv\n"
     ]
    }
   ],
   "source": [
    "#test = pd.read_csv(test)\n",
    "#test_copy = test.copy()\n",
    "import os\n",
    "\n",
    "for dir_path, dir_name, file_name in os.walk(r'C:\\Users\\Home\\Desktop\\currentfolders\\CrossSellPrediction\\data'):\n",
    "    for file in file_name:\n",
    "        print(os.path.join(dir_path, file))\n",
    "    "
   ]
  },
  {
   "cell_type": "code",
   "execution_count": 77,
   "metadata": {
    "colab": {},
    "colab_type": "code",
    "executionInfo": {
     "elapsed": 1676,
     "status": "ok",
     "timestamp": 1600082149514,
     "user": {
      "displayName": "Monisha Damodaran",
      "photoUrl": "https://lh3.googleusercontent.com/a-/AOh14Gi_q4T9HH9BFL_ZO-_l2JIKInT6SowHwa2NVssRKA=s64",
      "userId": "09754680681810397681"
     },
     "user_tz": -330
    },
    "id": "Td5Wzoo9L5st"
   },
   "outputs": [],
   "source": [
    "test = pd.read_csv(r\"C:\\Users\\Home\\Desktop\\currentfolders\\CrossSellPrediction\\data\\test.csv\")\n",
    "train = pd.read_csv(r\"C:\\Users\\Home\\Desktop\\currentfolders\\CrossSellPrediction\\data\\train.csv\")\n",
    "#train.info()"
   ]
  },
  {
   "cell_type": "code",
   "execution_count": 78,
   "metadata": {},
   "outputs": [],
   "source": [
    "test_copy = test.copy()\n",
    "train[\"is_train\"] = \"True\"\n",
    "test[\"is_train\"] = \"False\"\n",
    "\n",
    "pilot_train = pd.concat([train, test])"
   ]
  },
  {
   "cell_type": "code",
   "execution_count": 79,
   "metadata": {
    "colab": {
     "base_uri": "https://localhost:8080/",
     "height": 357
    },
    "colab_type": "code",
    "executionInfo": {
     "elapsed": 1171,
     "status": "ok",
     "timestamp": 1600082152623,
     "user": {
      "displayName": "Monisha Damodaran",
      "photoUrl": "https://lh3.googleusercontent.com/a-/AOh14Gi_q4T9HH9BFL_ZO-_l2JIKInT6SowHwa2NVssRKA=s64",
      "userId": "09754680681810397681"
     },
     "user_tz": -330
    },
    "id": "vQ-ooEUgMHUE",
    "outputId": "5035c4cd-a813-4a48-e666-c1b0e1e545a7"
   },
   "outputs": [],
   "source": [
    "#column names and its types\n",
    "\n",
    "pilot_train = pilot_train.reset_index()\n",
    "#pilot_train.info()"
   ]
  },
  {
   "cell_type": "code",
   "execution_count": 80,
   "metadata": {
    "colab": {},
    "colab_type": "code",
    "executionInfo": {
     "elapsed": 1356,
     "status": "ok",
     "timestamp": 1600082154877,
     "user": {
      "displayName": "Monisha Damodaran",
      "photoUrl": "https://lh3.googleusercontent.com/a-/AOh14Gi_q4T9HH9BFL_ZO-_l2JIKInT6SowHwa2NVssRKA=s64",
      "userId": "09754680681810397681"
     },
     "user_tz": -330
    },
    "id": "jc4oeFK5O04e"
   },
   "outputs": [],
   "source": [
    "#pilot_train\n",
    "\n",
    "train_copy = train.copy()"
   ]
  },
  {
   "cell_type": "code",
   "execution_count": 81,
   "metadata": {
    "colab": {},
    "colab_type": "code",
    "executionInfo": {
     "elapsed": 1063,
     "status": "ok",
     "timestamp": 1600082155347,
     "user": {
      "displayName": "Monisha Damodaran",
      "photoUrl": "https://lh3.googleusercontent.com/a-/AOh14Gi_q4T9HH9BFL_ZO-_l2JIKInT6SowHwa2NVssRKA=s64",
      "userId": "09754680681810397681"
     },
     "user_tz": -330
    },
    "id": "12F7A-5POWS7"
   },
   "outputs": [],
   "source": [
    "#converting integer columns to cateogical columns\n",
    "\n",
    "#col_names = [\"Driving_License\", \"Region_Code\", \"Previously_Insured\", \"Policy_Sales_Channel\", \"Response\"]\n",
    "#pilot_train[col_names] = pilot_train[col_names].astype(\"category\")"
   ]
  },
  {
   "cell_type": "code",
   "execution_count": 82,
   "metadata": {
    "colab": {},
    "colab_type": "code",
    "executionInfo": {
     "elapsed": 2187,
     "status": "ok",
     "timestamp": 1600082157224,
     "user": {
      "displayName": "Monisha Damodaran",
      "photoUrl": "https://lh3.googleusercontent.com/a-/AOh14Gi_q4T9HH9BFL_ZO-_l2JIKInT6SowHwa2NVssRKA=s64",
      "userId": "09754680681810397681"
     },
     "user_tz": -330
    },
    "id": "41eRwdmbNYe9"
   },
   "outputs": [],
   "source": [
    "#check for common id values in train and test\n",
    "\n",
    "#set(train[\"id\"]).intersection(set(test[\"id\"]))\n",
    "#there exists no common train and test id"
   ]
  },
  {
   "cell_type": "code",
   "execution_count": 83,
   "metadata": {
    "colab": {},
    "colab_type": "code",
    "executionInfo": {
     "elapsed": 1535,
     "status": "ok",
     "timestamp": 1600082157227,
     "user": {
      "displayName": "Monisha Damodaran",
      "photoUrl": "https://lh3.googleusercontent.com/a-/AOh14Gi_q4T9HH9BFL_ZO-_l2JIKInT6SowHwa2NVssRKA=s64",
      "userId": "09754680681810397681"
     },
     "user_tz": -330
    },
    "id": "TQLcXhCeMNbn"
   },
   "outputs": [],
   "source": [
    "#Checking for null values in each column \n",
    "\n",
    "#(train.isnull().sum()) / len(train)\n",
    "#there exists no null values in the training dataset"
   ]
  },
  {
   "cell_type": "code",
   "execution_count": 84,
   "metadata": {
    "colab": {
     "base_uri": "https://localhost:8080/",
     "height": 102
    },
    "colab_type": "code",
    "executionInfo": {
     "elapsed": 1405,
     "status": "ok",
     "timestamp": 1600082157840,
     "user": {
      "displayName": "Monisha Damodaran",
      "photoUrl": "https://lh3.googleusercontent.com/a-/AOh14Gi_q4T9HH9BFL_ZO-_l2JIKInT6SowHwa2NVssRKA=s64",
      "userId": "09754680681810397681"
     },
     "user_tz": -330
    },
    "id": "UH5AxGqqMTuM",
    "outputId": "af97cebb-838b-4499-b4c3-2067a1600040"
   },
   "outputs": [
    {
     "name": "stdout",
     "output_type": "stream",
     "text": [
      "the unique values of Gender is ['Male' 'Female']\n",
      "the unique values of Driving_License is [1 0]\n",
      "the unique values of Previously_Insured is [0 1]\n",
      "the unique values of Vehicle_Age is ['> 2 Years' '1-2 Year' '< 1 Year']\n",
      "the unique values of Vehicle_Damage is ['Yes' 'No']\n"
     ]
    }
   ],
   "source": [
    "#categorical variables and its unique_values\n",
    "\n",
    "cat_columns = [\"Gender\", \"Driving_License\", \"Previously_Insured\", \"Vehicle_Age\", \"Vehicle_Damage\"]\n",
    "for cols in cat_columns:\n",
    "      print(\"the unique values of\", cols, \"is\", pilot_train[cols].unique())\n"
   ]
  },
  {
   "cell_type": "code",
   "execution_count": 85,
   "metadata": {
    "colab": {},
    "colab_type": "code",
    "executionInfo": {
     "elapsed": 1293,
     "status": "ok",
     "timestamp": 1600082158388,
     "user": {
      "displayName": "Monisha Damodaran",
      "photoUrl": "https://lh3.googleusercontent.com/a-/AOh14Gi_q4T9HH9BFL_ZO-_l2JIKInT6SowHwa2NVssRKA=s64",
      "userId": "09754680681810397681"
     },
     "user_tz": -330
    },
    "id": "Y3R1TcyxNVdY"
   },
   "outputs": [],
   "source": [
    "#Vintage column (in days)\n",
    "\n",
    "#pilot_train[\"Vintage\"].describe()"
   ]
  },
  {
   "cell_type": "code",
   "execution_count": 86,
   "metadata": {
    "colab": {},
    "colab_type": "code",
    "executionInfo": {
     "elapsed": 1452,
     "status": "ok",
     "timestamp": 1600082160115,
     "user": {
      "displayName": "Monisha Damodaran",
      "photoUrl": "https://lh3.googleusercontent.com/a-/AOh14Gi_q4T9HH9BFL_ZO-_l2JIKInT6SowHwa2NVssRKA=s64",
      "userId": "09754680681810397681"
     },
     "user_tz": -330
    },
    "id": "9AyZ_48zQHNv"
   },
   "outputs": [],
   "source": [
    "#Vehicle_age mapping\n",
    "\n",
    "gender = {'Male' : 0,\n",
    "          'Female': 1}\n",
    "          \n",
    "va = {'> 2 Years' : 2,\n",
    "      '1-2 Year' : 1,\n",
    "      '< 1 Year' : 0}\n",
    "\n",
    "      \n",
    "vd = {'No' : 0,\n",
    "      'Yes' : 1}\n",
    "\n"
   ]
  },
  {
   "cell_type": "code",
   "execution_count": 87,
   "metadata": {
    "colab": {},
    "colab_type": "code",
    "executionInfo": {
     "elapsed": 1275,
     "status": "ok",
     "timestamp": 1600082160677,
     "user": {
      "displayName": "Monisha Damodaran",
      "photoUrl": "https://lh3.googleusercontent.com/a-/AOh14Gi_q4T9HH9BFL_ZO-_l2JIKInT6SowHwa2NVssRKA=s64",
      "userId": "09754680681810397681"
     },
     "user_tz": -330
    },
    "id": "R44mklecWkid"
   },
   "outputs": [],
   "source": [
    "pilot_train[\"Gender\"] = pilot_train[\"Gender\"].map(gender)\n",
    "pilot_train[\"Vehical_Age\"] = pilot_train[\"Vehicle_Age\"].map(va)\n",
    "pilot_train[\"Vehical_Damage\"] = pilot_train[\"Vehicle_Damage\"].map(vd)"
   ]
  },
  {
   "cell_type": "code",
   "execution_count": 88,
   "metadata": {},
   "outputs": [],
   "source": [
    "#pilot_train.info()"
   ]
  },
  {
   "cell_type": "code",
   "execution_count": 89,
   "metadata": {
    "colab": {},
    "colab_type": "code",
    "executionInfo": {
     "elapsed": 1960,
     "status": "ok",
     "timestamp": 1600082162413,
     "user": {
      "displayName": "Monisha Damodaran",
      "photoUrl": "https://lh3.googleusercontent.com/a-/AOh14Gi_q4T9HH9BFL_ZO-_l2JIKInT6SowHwa2NVssRKA=s64",
      "userId": "09754680681810397681"
     },
     "user_tz": -330
    },
    "id": "ahU11zgEWqlZ"
   },
   "outputs": [],
   "source": [
    "pilot_train[\"MeanAnnualPremiumPreviouslyInsured\"] = pilot_train.groupby([\"Previously_Insured\"])[\"Annual_Premium\"].transform(\"mean\")\n",
    "pilot_train[\"SumAnnualPremiumPreviouslyInsured\"] = pilot_train.groupby([\"Previously_Insured\"])[\"Annual_Premium\"].transform(\"sum\")\n"
   ]
  },
  {
   "cell_type": "code",
   "execution_count": 90,
   "metadata": {
    "colab": {},
    "colab_type": "code",
    "executionInfo": {
     "elapsed": 1798,
     "status": "ok",
     "timestamp": 1600082163066,
     "user": {
      "displayName": "Monisha Damodaran",
      "photoUrl": "https://lh3.googleusercontent.com/a-/AOh14Gi_q4T9HH9BFL_ZO-_l2JIKInT6SowHwa2NVssRKA=s64",
      "userId": "09754680681810397681"
     },
     "user_tz": -330
    },
    "id": "0Tr4L69oXiBC"
   },
   "outputs": [],
   "source": [
    "pilot_train[\"Vintage_categories\"] = pd.qcut(pilot_train[\"Vintage\"], q = 4, precision = 0, labels = [0, 1, 2, 3])\n",
    "pilot_train[\"Vintage_categories\"] = pilot_train[\"Vintage_categories\"].astype(int)"
   ]
  },
  {
   "cell_type": "code",
   "execution_count": 91,
   "metadata": {
    "colab": {},
    "colab_type": "code",
    "executionInfo": {
     "elapsed": 1233,
     "status": "ok",
     "timestamp": 1600082163533,
     "user": {
      "displayName": "Monisha Damodaran",
      "photoUrl": "https://lh3.googleusercontent.com/a-/AOh14Gi_q4T9HH9BFL_ZO-_l2JIKInT6SowHwa2NVssRKA=s64",
      "userId": "09754680681810397681"
     },
     "user_tz": -330
    },
    "id": "CFEqIKJuXjo0"
   },
   "outputs": [],
   "source": [
    "#pd.crosstab(pilot_train[\"Vintage_categories\"], pilot_train[\"Previously_Insured\"])"
   ]
  },
  {
   "cell_type": "code",
   "execution_count": 92,
   "metadata": {
    "colab": {
     "base_uri": "https://localhost:8080/",
     "height": 68
    },
    "colab_type": "code",
    "executionInfo": {
     "elapsed": 840,
     "status": "ok",
     "timestamp": 1600082164056,
     "user": {
      "displayName": "Monisha Damodaran",
      "photoUrl": "https://lh3.googleusercontent.com/a-/AOh14Gi_q4T9HH9BFL_ZO-_l2JIKInT6SowHwa2NVssRKA=s64",
      "userId": "09754680681810397681"
     },
     "user_tz": -330
    },
    "id": "A-CCTnCyZjxL",
    "outputId": "0a58504c-0dcc-4dec-d1ff-82a61305911d"
   },
   "outputs": [],
   "source": [
    "#(pilot_train[\"Policy_Sales_Channel\"].value_counts(normalize = True).sort_values(ascending = False).head(10).index)"
   ]
  },
  {
   "cell_type": "code",
   "execution_count": 93,
   "metadata": {
    "colab": {
     "base_uri": "https://localhost:8080/",
     "height": 187
    },
    "colab_type": "code",
    "executionInfo": {
     "elapsed": 1767,
     "status": "ok",
     "timestamp": 1600082166246,
     "user": {
      "displayName": "Monisha Damodaran",
      "photoUrl": "https://lh3.googleusercontent.com/a-/AOh14Gi_q4T9HH9BFL_ZO-_l2JIKInT6SowHwa2NVssRKA=s64",
      "userId": "09754680681810397681"
     },
     "user_tz": -330
    },
    "id": "5JDUo9REZzW5",
    "outputId": "4e21d19e-9dfa-4e75-e53a-60451df47599"
   },
   "outputs": [],
   "source": [
    "popular_PolicySalesChannel = test[\"Policy_Sales_Channel\"].value_counts(normalize = True).sort_values(ascending = False).index\n",
    "first_10_psc = popular_PolicySalesChannel[0:11]\n",
    "\n",
    "from collections import defaultdict\n",
    "first_10_psc_map = defaultdict(int, dict(zip(first_10_psc, np.linspace(10, 1, 10))))\n",
    "other_policy_channels = popular_PolicySalesChannel[12:] \n",
    "\n",
    "\n",
    "#first_10_psc_map\n",
    "#psc_map = dict(zip())\n"
   ]
  },
  {
   "cell_type": "code",
   "execution_count": 94,
   "metadata": {
    "colab": {},
    "colab_type": "code",
    "executionInfo": {
     "elapsed": 1301,
     "status": "ok",
     "timestamp": 1600082169069,
     "user": {
      "displayName": "Monisha Damodaran",
      "photoUrl": "https://lh3.googleusercontent.com/a-/AOh14Gi_q4T9HH9BFL_ZO-_l2JIKInT6SowHwa2NVssRKA=s64",
      "userId": "09754680681810397681"
     },
     "user_tz": -330
    },
    "id": "fyryfDMteqta"
   },
   "outputs": [],
   "source": [
    "pilot_train[\"psc\"] = pilot_train[\"Policy_Sales_Channel\"].copy()"
   ]
  },
  {
   "cell_type": "code",
   "execution_count": 95,
   "metadata": {
    "colab": {},
    "colab_type": "code",
    "executionInfo": {
     "elapsed": 1726,
     "status": "ok",
     "timestamp": 1600082170495,
     "user": {
      "displayName": "Monisha Damodaran",
      "photoUrl": "https://lh3.googleusercontent.com/a-/AOh14Gi_q4T9HH9BFL_ZO-_l2JIKInT6SowHwa2NVssRKA=s64",
      "userId": "09754680681810397681"
     },
     "user_tz": -330
    },
    "id": "-5Yln6gbdbl7"
   },
   "outputs": [],
   "source": [
    "#pilot_train[\"psc\"] = np.where(pilot_train[\"psc\"].isin(other_policy_channels), 0, pilot_train[\"psc\"])\n",
    "pilot_train[\"psc\"] = pilot_train[\"psc\"].map(first_10_psc_map)\n",
    "#.fillna(pilot_train[\"psc\"])\n"
   ]
  },
  {
   "cell_type": "code",
   "execution_count": 96,
   "metadata": {},
   "outputs": [],
   "source": [
    "pilot_train[\"rc\"] = pilot_train[\"Region_Code\"].copy()"
   ]
  },
  {
   "cell_type": "code",
   "execution_count": 97,
   "metadata": {
    "colab": {},
    "colab_type": "code",
    "executionInfo": {
     "elapsed": 1385,
     "status": "ok",
     "timestamp": 1600082171072,
     "user": {
      "displayName": "Monisha Damodaran",
      "photoUrl": "https://lh3.googleusercontent.com/a-/AOh14Gi_q4T9HH9BFL_ZO-_l2JIKInT6SowHwa2NVssRKA=s64",
      "userId": "09754680681810397681"
     },
     "user_tz": -330
    },
    "id": "-4Cv03m6PAKk"
   },
   "outputs": [],
   "source": [
    "popular_regions = pilot_train[\"Region_Code\"].value_counts(normalize = True).sort_values(ascending = False).index\n",
    "first_10_regions = popular_regions[0: 11]\n",
    "first_10_regions_map = defaultdict(int, dict(zip(first_10_regions, np.linspace(10, 1, 10))))\n",
    "other_regions = popular_regions[12:]\n"
   ]
  },
  {
   "cell_type": "code",
   "execution_count": 98,
   "metadata": {},
   "outputs": [],
   "source": [
    "#pilot_train[\"rc\"] = np.where(pilot_train[\"rc\"].isin(other_regions), 0, pilot_train[\"rc\"])\n",
    "pilot_train[\"rc\"] = pilot_train[\"rc\"].map(first_10_regions_map)\n",
    "#.fillna(pilot_train[\"rc\"])"
   ]
  },
  {
   "cell_type": "code",
   "execution_count": 99,
   "metadata": {},
   "outputs": [],
   "source": [
    "#pilot_train[\"rc\"].isnull().sum()"
   ]
  },
  {
   "cell_type": "code",
   "execution_count": 100,
   "metadata": {
    "colab": {},
    "colab_type": "code",
    "executionInfo": {
     "elapsed": 1055,
     "status": "ok",
     "timestamp": 1600082171989,
     "user": {
      "displayName": "Monisha Damodaran",
      "photoUrl": "https://lh3.googleusercontent.com/a-/AOh14Gi_q4T9HH9BFL_ZO-_l2JIKInT6SowHwa2NVssRKA=s64",
      "userId": "09754680681810397681"
     },
     "user_tz": -330
    },
    "id": "5GAllye3QdtQ"
   },
   "outputs": [],
   "source": [
    "#region_codes = (np.array(test[\"Region_Code\"].value_counts(normalize = True).sort_values(ascending = True).head(20).index))\n",
    "#region_codes_map = dict(zip(region_codes, np.arange(len(region_codes))))\n",
    "#region_codes_map"
   ]
  },
  {
   "cell_type": "code",
   "execution_count": 101,
   "metadata": {
    "colab": {},
    "colab_type": "code",
    "executionInfo": {
     "elapsed": 1097,
     "status": "ok",
     "timestamp": 1600082186812,
     "user": {
      "displayName": "Monisha Damodaran",
      "photoUrl": "https://lh3.googleusercontent.com/a-/AOh14Gi_q4T9HH9BFL_ZO-_l2JIKInT6SowHwa2NVssRKA=s64",
      "userId": "09754680681810397681"
     },
     "user_tz": -330
    },
    "id": "beIMemnxQmWf"
   },
   "outputs": [],
   "source": [
    "#pilot_train[\"Region_Code_cat\"] = pilot_train[\"Region_Code\"].map(region_codes_map)\n",
    "#pilot_train[\"Region_Code_cat\"].value_counts()\n",
    "#region_codes_map"
   ]
  },
  {
   "cell_type": "code",
   "execution_count": 102,
   "metadata": {
    "colab": {},
    "colab_type": "code",
    "executionInfo": {
     "elapsed": 870,
     "status": "ok",
     "timestamp": 1600082188554,
     "user": {
      "displayName": "Monisha Damodaran",
      "photoUrl": "https://lh3.googleusercontent.com/a-/AOh14Gi_q4T9HH9BFL_ZO-_l2JIKInT6SowHwa2NVssRKA=s64",
      "userId": "09754680681810397681"
     },
     "user_tz": -330
    },
    "id": "LIGgfIf0Ritq"
   },
   "outputs": [],
   "source": [
    "#count of previously insured in each region\n",
    "\n",
    "pilot_train[\"RegionWiseDepositorsCount\"] = pilot_train.groupby([\"Region_Code\"])[\"Previously_Insured\"].transform(\"count\")\n",
    "pilot_train[\"PolicySalesChannelCount\"] = pilot_train.groupby([\"Policy_Sales_Channel\"])[\"Previously_Insured\"].transform(\"count\")\n",
    "pilot_train[\"DrivingLicenseCount\"] = pilot_train.groupby([\"Driving_License\"])[\"Previously_Insured\"].transform(\"count\")\n"
   ]
  },
  {
   "cell_type": "code",
   "execution_count": 103,
   "metadata": {
    "colab": {},
    "colab_type": "code",
    "executionInfo": {
     "elapsed": 1096,
     "status": "ok",
     "timestamp": 1600082189484,
     "user": {
      "displayName": "Monisha Damodaran",
      "photoUrl": "https://lh3.googleusercontent.com/a-/AOh14Gi_q4T9HH9BFL_ZO-_l2JIKInT6SowHwa2NVssRKA=s64",
      "userId": "09754680681810397681"
     },
     "user_tz": -330
    },
    "id": "d97N--hFURdk"
   },
   "outputs": [],
   "source": [
    "#pilot_train = pilot_train.drop([\"MeanAnnualPremiumPolicySales\", \n",
    "#                                \"SumAnnualPremiumPolicySales\", \n",
    "#                                \"MinAnnualPremiumPolicySales\", \n",
    "#                                \"MaxAnnualPremiumPolicySales\"], axis = 1)"
   ]
  },
  {
   "cell_type": "code",
   "execution_count": 104,
   "metadata": {
    "colab": {},
    "colab_type": "code",
    "executionInfo": {
     "elapsed": 1133,
     "status": "ok",
     "timestamp": 1600082192295,
     "user": {
      "displayName": "Monisha Damodaran",
      "photoUrl": "https://lh3.googleusercontent.com/a-/AOh14Gi_q4T9HH9BFL_ZO-_l2JIKInT6SowHwa2NVssRKA=s64",
      "userId": "09754680681810397681"
     },
     "user_tz": -330
    },
    "id": "TYKd_EP2SiF2"
   },
   "outputs": [],
   "source": [
    "#Mean, sum, max and min Annual Premium of Policy Sales Channel\n",
    "\n",
    "#pilot_train[\"MeanAnnualPremiumRegion\"] = pilot_train.groupby([\"Region_Code\"])[\"Annual_Premium\"].transform(\"mean\")\n",
    "#pilot_train[\"SumAnnualPremiumRegion\"] = pilot_train.groupby([\"Region_Code\"])[\"Annual_Premium\"].transform(\"sum\")\n",
    "#pilot_train[\"MinAnnualPremiumRegion\"] = pilot_train.groupby([\"Region_Code\"])[\"Annual_Premium\"].transform(\"min\")\n",
    "#pilot_train[\"MaxAnnualPremiumRegion\"] = pilot_train.groupby([\"Region_Code\"])[\"Annual_Premium\"].transform(\"max\")\n"
   ]
  },
  {
   "cell_type": "code",
   "execution_count": 105,
   "metadata": {
    "colab": {},
    "colab_type": "code",
    "executionInfo": {
     "elapsed": 1170,
     "status": "ok",
     "timestamp": 1600082193937,
     "user": {
      "displayName": "Monisha Damodaran",
      "photoUrl": "https://lh3.googleusercontent.com/a-/AOh14Gi_q4T9HH9BFL_ZO-_l2JIKInT6SowHwa2NVssRKA=s64",
      "userId": "09754680681810397681"
     },
     "user_tz": -330
    },
    "id": "mKuDkRLnUh1a"
   },
   "outputs": [],
   "source": [
    "pilot_train[\"MeanAnnualPremiumRegion\"] = pilot_train.groupby([\"rc\"])[\"Annual_Premium\"].transform(\"mean\")\n",
    "pilot_train[\"SumAnnualPremiumRegion\"] = pilot_train.groupby([\"rc\"])[\"Annual_Premium\"].transform(\"sum\")\n",
    "pilot_train[\"MinAnnualPremiumRegion\"] = pilot_train.groupby([\"rc\"])[\"Annual_Premium\"].transform(\"min\")\n",
    "pilot_train[\"MaxAnnualPremiumRegion\"] = pilot_train.groupby([\"rc\"])[\"Annual_Premium\"].transform(\"max\")\n"
   ]
  },
  {
   "cell_type": "code",
   "execution_count": 106,
   "metadata": {
    "colab": {},
    "colab_type": "code",
    "executionInfo": {
     "elapsed": 985,
     "status": "ok",
     "timestamp": 1600082195384,
     "user": {
      "displayName": "Monisha Damodaran",
      "photoUrl": "https://lh3.googleusercontent.com/a-/AOh14Gi_q4T9HH9BFL_ZO-_l2JIKInT6SowHwa2NVssRKA=s64",
      "userId": "09754680681810397681"
     },
     "user_tz": -330
    },
    "id": "M9dYkfpFTQoa"
   },
   "outputs": [],
   "source": [
    "#Mean, sum, max and min of Annual Premium Regionwise\n",
    "\n",
    "#pilot_train[\"MeanAnnualPremiumPolicySales\"] = pilot_train.groupby([\"Policy_Sales_Channel\"])[\"Annual_Premium\"].transform(\"mean\")\n",
    "#pilot_train[\"SumAnnualPremiumPolicySales\"] = pilot_train.groupby([\"Policy_Sales_Channel\"])[\"Annual_Premium\"].transform(\"sum\")\n",
    "#pilot_train[\"MinAnnualPremiumPolicySales\"] = pilot_train.groupby([\"Policy_Sales_Channel\"])[\"Annual_Premium\"].transform(\"min\")\n",
    "#pilot_train[\"MaxAnnualPremiumPolicySales\"] = pilot_train.groupby([\"Policy_Sales_Channel\"])[\"Annual_Premium\"].transform(\"max\")\n"
   ]
  },
  {
   "cell_type": "code",
   "execution_count": 107,
   "metadata": {
    "colab": {},
    "colab_type": "code",
    "executionInfo": {
     "elapsed": 1307,
     "status": "ok",
     "timestamp": 1600082235919,
     "user": {
      "displayName": "Monisha Damodaran",
      "photoUrl": "https://lh3.googleusercontent.com/a-/AOh14Gi_q4T9HH9BFL_ZO-_l2JIKInT6SowHwa2NVssRKA=s64",
      "userId": "09754680681810397681"
     },
     "user_tz": -330
    },
    "id": "mwKVZh3BUscb"
   },
   "outputs": [],
   "source": [
    "pilot_train[\"MeanAnnualPremiumPolicySales\"] = pilot_train.groupby([\"psc\"])[\"Annual_Premium\"].transform(\"mean\")\n",
    "pilot_train[\"SumAnnualPremiumPolicySales\"] = pilot_train.groupby([\"psc\"])[\"Annual_Premium\"].transform(\"sum\")\n",
    "pilot_train[\"MinAnnualPremiumPolicySales\"] = pilot_train.groupby([\"psc\"])[\"Annual_Premium\"].transform(\"min\")\n",
    "pilot_train[\"MaxAnnualPremiumPolicySales\"] = pilot_train.groupby([\"psc\"])[\"Annual_Premium\"].transform(\"max\")\n"
   ]
  },
  {
   "cell_type": "code",
   "execution_count": 108,
   "metadata": {
    "colab": {
     "base_uri": "https://localhost:8080/",
     "height": 204
    },
    "colab_type": "code",
    "executionInfo": {
     "elapsed": 1437,
     "status": "ok",
     "timestamp": 1600082238802,
     "user": {
      "displayName": "Monisha Damodaran",
      "photoUrl": "https://lh3.googleusercontent.com/a-/AOh14Gi_q4T9HH9BFL_ZO-_l2JIKInT6SowHwa2NVssRKA=s64",
      "userId": "09754680681810397681"
     },
     "user_tz": -330
    },
    "id": "1TrJNqujSBhS",
    "outputId": "fdaebc9b-8ec6-4665-a69b-1a9df96ed97b"
   },
   "outputs": [],
   "source": [
    "#Feature names\n",
    "\n",
    "#pilot_train.columns"
   ]
  },
  {
   "cell_type": "code",
   "execution_count": 109,
   "metadata": {},
   "outputs": [],
   "source": [
    "pilot_train.drop([\"index\", \"id\", \"Vehicle_Age\", \"Vehicle_Damage\"], axis = 1, inplace = True)\n"
   ]
  },
  {
   "cell_type": "code",
   "execution_count": 110,
   "metadata": {},
   "outputs": [],
   "source": [
    "\n",
    "features = ['Gender', 'Age', 'Driving_License',\n",
    "       'Previously_Insured',  'Annual_Premium',\n",
    "         'Response', 'is_train',\n",
    "       'Vehical_Age', 'Vehical_Damage', 'MeanAnnualPremiumPreviouslyInsured',\n",
    "       'SumAnnualPremiumPreviouslyInsured', 'Vintage_categories', 'psc', 'rc',\n",
    "       'RegionWiseDepositorsCount', 'MeanAnnualPremiumRegion',\n",
    "       'SumAnnualPremiumRegion', 'MinAnnualPremiumRegion',\n",
    "       'MaxAnnualPremiumRegion', 'MeanAnnualPremiumPolicySales',\n",
    "       'SumAnnualPremiumPolicySales', 'MinAnnualPremiumPolicySales',\n",
    "       'MaxAnnualPremiumPolicySales']"
   ]
  },
  {
   "cell_type": "code",
   "execution_count": 111,
   "metadata": {
    "colab": {},
    "colab_type": "code",
    "executionInfo": {
     "elapsed": 1654,
     "status": "ok",
     "timestamp": 1600082626044,
     "user": {
      "displayName": "Monisha Damodaran",
      "photoUrl": "https://lh3.googleusercontent.com/a-/AOh14Gi_q4T9HH9BFL_ZO-_l2JIKInT6SowHwa2NVssRKA=s64",
      "userId": "09754680681810397681"
     },
     "user_tz": -330
    },
    "id": "am3WDwR0_a9C"
   },
   "outputs": [],
   "source": [
    "train_data = pilot_train.loc[pilot_train[\"is_train\"].isin([\"True\"])]\n",
    "test_data = pilot_train.loc[pilot_train[\"is_train\"].isin([\"False\"])]\n",
    "train_data = train_data[features]\n",
    "test_data = test_data[features]"
   ]
  },
  {
   "cell_type": "code",
   "execution_count": 112,
   "metadata": {},
   "outputs": [],
   "source": [
    "#train_data.info()"
   ]
  },
  {
   "cell_type": "code",
   "execution_count": 113,
   "metadata": {
    "colab": {
     "base_uri": "https://localhost:8080/",
     "height": 204
    },
    "colab_type": "code",
    "executionInfo": {
     "elapsed": 1612,
     "status": "ok",
     "timestamp": 1600082628265,
     "user": {
      "displayName": "Monisha Damodaran",
      "photoUrl": "https://lh3.googleusercontent.com/a-/AOh14Gi_q4T9HH9BFL_ZO-_l2JIKInT6SowHwa2NVssRKA=s64",
      "userId": "09754680681810397681"
     },
     "user_tz": -330
    },
    "id": "7LPaC2iZCmxr",
    "outputId": "f58cac89-c75f-4e54-f813-a4b89a32dc48"
   },
   "outputs": [],
   "source": [
    "#pilot_train.columns\n",
    "import lightgbm as lgb"
   ]
  },
  {
   "cell_type": "code",
   "execution_count": 114,
   "metadata": {
    "colab": {
     "base_uri": "https://localhost:8080/",
     "height": 34
    },
    "colab_type": "code",
    "executionInfo": {
     "elapsed": 1154,
     "status": "ok",
     "timestamp": 1600082628979,
     "user": {
      "displayName": "Monisha Damodaran",
      "photoUrl": "https://lh3.googleusercontent.com/a-/AOh14Gi_q4T9HH9BFL_ZO-_l2JIKInT6SowHwa2NVssRKA=s64",
      "userId": "09754680681810397681"
     },
     "user_tz": -330
    },
    "id": "dtIjzulQTYRM",
    "outputId": "a356891f-2e77-4c83-d369-30e323544b1b"
   },
   "outputs": [],
   "source": [
    "#pilot_train.info()\n",
    "\n",
    "#pilot_train.info()\n",
    "\n",
    "x = train_data.drop([\"Response\", \"is_train\"], axis = 1).reset_index()\n",
    "y = train_data.loc[:, [\"Response\"]]\n",
    "test = test_data.drop([\"Response\", \"is_train\"], axis = 1).reset_index()\n",
    "#test.shape"
   ]
  },
  {
   "cell_type": "code",
   "execution_count": 115,
   "metadata": {},
   "outputs": [],
   "source": [
    "#x.shape, y.shape, test.shape"
   ]
  },
  {
   "cell_type": "code",
   "execution_count": 116,
   "metadata": {
    "colab": {
     "base_uri": "https://localhost:8080/",
     "height": 275
    },
    "colab_type": "code",
    "executionInfo": {
     "elapsed": 57575,
     "status": "ok",
     "timestamp": 1600082686309,
     "user": {
      "displayName": "Monisha Damodaran",
      "photoUrl": "https://lh3.googleusercontent.com/a-/AOh14Gi_q4T9HH9BFL_ZO-_l2JIKInT6SowHwa2NVssRKA=s64",
      "userId": "09754680681810397681"
     },
     "user_tz": -330
    },
    "id": "4Rc78CXWUfId",
    "outputId": "d42b2267-10cd-496d-bf45-dcadefa4c0a8"
   },
   "outputs": [
    {
     "name": "stderr",
     "output_type": "stream",
     "text": [
      "C:\\ProgramData\\Anaconda3\\lib\\site-packages\\sklearn\\utils\\validation.py:73: DataConversionWarning: A column-vector y was passed when a 1d array was expected. Please change the shape of y to (n_samples, ), for example using ravel().\n",
      "  return f(**kwargs)\n",
      "C:\\ProgramData\\Anaconda3\\lib\\site-packages\\lightgbm\\engine.py:148: UserWarning: Found `num_boost_round` in params. Will use it instead of argument\n",
      "  warnings.warn(\"Found `{}` in params. Will use it instead of argument\".format(alias))\n"
     ]
    },
    {
     "name": "stdout",
     "output_type": "stream",
     "text": [
      "The accuracy scored for fold 1 is 0.8137545590511925\n",
      "The accuracy scored for fold 2 is 0.8196846054944766\n",
      "The accuracy scored for fold 3 is 0.81711316942615\n",
      "The accuracy scored for fold 4 is 0.8160373645404214\n",
      "The accuracy scored for fold 5 is 0.8139644721996274\n",
      "The accuracy scored for fold 6 is 0.8193172574847157\n",
      "The accuracy scored for fold 7 is 0.8143318202093883\n",
      "The accuracy scored for fold 8 is 0.815040277085356\n",
      "The accuracy scored for fold 9 is 0.8150140379418016\n",
      "The accuracy scored for fold 10 is 0.8138808711624246\n"
     ]
    }
   ],
   "source": [
    "from sklearn.model_selection import KFold, StratifiedKFold\n",
    "from sklearn.metrics import accuracy_score\n",
    "import lightgbm as lgb\n",
    "y_pred_lgbm = np.zeros((len(test), 2))\n",
    "#train_copy = pilot_train[features]\n",
    "#train_Y = pilot_train.loc[:, [\"Response\"]]\n",
    "kf = StratifiedKFold(n_splits = 10, shuffle = True, random_state = 3)\n",
    "i = 1\n",
    "scores = []\n",
    "for train_index, test_index in kf.split(x, y):\n",
    "  x_train, x_test = x.iloc[train_index], x.iloc[test_index]\n",
    "  y_train, y_test = y.iloc[train_index], y.iloc[test_index]\n",
    "  clf = lgb.LGBMClassifier(boosting_type='gbdt', learning_rate=0.1, n_estimators=800, importance_type='gain', objective='binary', num_boost_round=100,\n",
    "                            num_leaves=400, max_depth=5, max_bin = 60, \n",
    "                             bagging_faction=0.9, feature_fraction=0.9, subsample_freq=2, scale_pos_weight=2.5,\n",
    "                            random_state= 1994, n_jobs=-1, reg_lambda = 1, silent=False, unbalanced = True)\n",
    "  clf.fit(x_train, y_train)\n",
    "  y_pred = clf.predict(x_test)\n",
    "  accuracy = accuracy_score(y_test, y_pred)\n",
    "  print(\"The accuracy scored for fold\", i, \"is\", accuracy)\n",
    "  i += 1\n",
    "  scores.append(accuracy)\n",
    "  #y_pred_lgbm += clf.predict_prob(test)\n",
    "\n",
    "\n",
    "\n",
    "\n"
   ]
  },
  {
   "cell_type": "code",
   "execution_count": 502,
   "metadata": {
    "colab": {
     "base_uri": "https://localhost:8080/",
     "height": 34
    },
    "colab_type": "code",
    "executionInfo": {
     "elapsed": 55847,
     "status": "ok",
     "timestamp": 1600082686315,
     "user": {
      "displayName": "Monisha Damodaran",
      "photoUrl": "https://lh3.googleusercontent.com/a-/AOh14Gi_q4T9HH9BFL_ZO-_l2JIKInT6SowHwa2NVssRKA=s64",
      "userId": "09754680681810397681"
     },
     "user_tz": -330
    },
    "id": "v9YQ9BGcLVR5",
    "outputId": "d1a859cf-ca8b-4c15-f10b-b5b40f4d6d92"
   },
   "outputs": [
    {
     "data": {
      "text/plain": [
       "(127037, 11)"
      ]
     },
     "execution_count": 502,
     "metadata": {
      "tags": []
     },
     "output_type": "execute_result"
    }
   ],
   "source": [
    "final_test = io.BytesIO(uploaded[\"test.csv\"])\n",
    "final_test = pd.read_csv(final_test)\n",
    "final_test.shape\n"
   ]
  },
  {
   "cell_type": "code",
   "execution_count": 117,
   "metadata": {
    "colab": {
     "base_uri": "https://localhost:8080/",
     "height": 17
    },
    "colab_type": "code",
    "executionInfo": {
     "elapsed": 2110,
     "status": "ok",
     "timestamp": 1600082732088,
     "user": {
      "displayName": "Monisha Damodaran",
      "photoUrl": "https://lh3.googleusercontent.com/a-/AOh14Gi_q4T9HH9BFL_ZO-_l2JIKInT6SowHwa2NVssRKA=s64",
      "userId": "09754680681810397681"
     },
     "user_tz": -330
    },
    "id": "oER6sh_PICB3",
    "outputId": "acc56b4a-1925-483c-808c-085862b9d062"
   },
   "outputs": [],
   "source": [
    "submission_data = pd.DataFrame({\"id\": test_copy[\"id\"], \"Response\" : clf.predict_proba(test)[:, 1]} )\n",
    "#submission_data.reset_index(drop = True, inplace = True)\n",
    "os.chdir(r\"C:\\Users\\Home\\Desktop\\currentfolders\\CrossSellPrediction\")\n",
    "#submission_data[\"Response\"] = clf.predict(test)\n",
    "#pred_values = list(clf.predict(test))\n",
    "submission_data.to_csv(\"CrossSellPrediction.csv\")\n",
    "#files.download(\"Submission2.csv\")\n",
    "#len(pred_values)\n",
    "#submission_data[\"Response\"] = pred_values\n",
    "#submission_data[\"id\"] = len(final_test.id.values)\n",
    "#submission_data.shape, len(pred_values)\n",
    "#len(final_test[\"Vintage\"])"
   ]
  },
  {
   "cell_type": "code",
   "execution_count": 119,
   "metadata": {
    "colab": {
     "base_uri": "https://localhost:8080/",
     "height": 34
    },
    "colab_type": "code",
    "executionInfo": {
     "elapsed": 1534,
     "status": "ok",
     "timestamp": 1600079882505,
     "user": {
      "displayName": "Monisha Damodaran",
      "photoUrl": "https://lh3.googleusercontent.com/a-/AOh14Gi_q4T9HH9BFL_ZO-_l2JIKInT6SowHwa2NVssRKA=s64",
      "userId": "09754680681810397681"
     },
     "user_tz": -330
    },
    "id": "FIQ_pIqVK-Nl",
    "outputId": "47f34f9e-16e2-491f-ede2-a688ae43a679"
   },
   "outputs": [],
   "source": [
    "#print(test_copy.shape,test.shape)\n",
    "#len(list(clf.predict(test))), len(test)"
   ]
  },
  {
   "cell_type": "code",
   "execution_count": null,
   "metadata": {
    "colab": {},
    "colab_type": "code",
    "id": "3-wd_VmKrKF8"
   },
   "outputs": [],
   "source": [
    "#!pip install catboost\n",
    "#!pip install ipywidgets\n",
    "#!jupyter nbextension enable --py widgetsnbextension"
   ]
  },
  {
   "cell_type": "code",
   "execution_count": null,
   "metadata": {
    "colab": {},
    "colab_type": "code",
    "id": "TAHVImXoR-r3"
   },
   "outputs": [],
   "source": []
  }
 ],
 "metadata": {
  "colab": {
   "authorship_tag": "ABX9TyPw4XUw/uySlQ6C13LFQOrM",
   "collapsed_sections": [],
   "name": "CrossSellPrediction",
   "provenance": []
  },
  "kernelspec": {
   "display_name": "Python 3",
   "language": "python",
   "name": "python3"
  },
  "language_info": {
   "codemirror_mode": {
    "name": "ipython",
    "version": 3
   },
   "file_extension": ".py",
   "mimetype": "text/x-python",
   "name": "python",
   "nbconvert_exporter": "python",
   "pygments_lexer": "ipython3",
   "version": "3.8.3"
  }
 },
 "nbformat": 4,
 "nbformat_minor": 1
}
